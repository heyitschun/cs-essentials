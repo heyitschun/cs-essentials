{
 "cells": [
  {
   "cell_type": "code",
   "execution_count": 6,
   "metadata": {},
   "outputs": [],
   "source": [
    "def leap(year):\n",
    "    return (year % 400 == 0) if (year % 100 == 0) else (year % 4 == 0) "
   ]
  },
  {
   "cell_type": "code",
   "execution_count": 4,
   "metadata": {},
   "outputs": [],
   "source": [
    "def bubble_sort(arr):\n",
    "    unsorted_until_index = len(arr) - 1\n",
    "    done = False\n",
    "    \n",
    "    while not done:\n",
    "        done = True\n",
    "        for i in range(unsorted_until_index):\n",
    "            if arr[i] > arr[i+1]:\n",
    "                arr[i], arr[i+1] = arr[i+1], arr[i]\n",
    "                done = False\n",
    "        unsorted_until_index -= 1\n",
    "    return arr"
   ]
  },
  {
   "cell_type": "code",
   "execution_count": 5,
   "metadata": {},
   "outputs": [],
   "source": [
    "a = [54, 1, 23, 65, 98, 34, 35, 36]"
   ]
  },
  {
   "cell_type": "code",
   "execution_count": 6,
   "metadata": {},
   "outputs": [
    {
     "name": "stdout",
     "output_type": "stream",
     "text": [
      "[1, 23, 34, 35, 36, 54, 65, 98]\n"
     ]
    }
   ],
   "source": [
    "print(bubble_sort(a))"
   ]
  },
  {
   "cell_type": "code",
   "execution_count": 6,
   "metadata": {},
   "outputs": [],
   "source": [
    "# def greatest_num(arr):\n",
    "#     for i in arr:\n",
    "#         is_i_greatest = True\n",
    "#         for j in arr:\n",
    "#             if j > i:\n",
    "#                 is_i_greatest = False\n",
    "#         if is_i_greatest:\n",
    "#             return i\n",
    "\n",
    "def greatest_num(arr):\n",
    "    greatest = arr[0]\n",
    "    for i in arr:\n",
    "        if i > greatest:\n",
    "            greatest = i\n",
    "    return greatest"
   ]
  },
  {
   "cell_type": "code",
   "execution_count": 7,
   "metadata": {},
   "outputs": [],
   "source": [
    "a = [1,2,3,5,1000,123]"
   ]
  },
  {
   "cell_type": "code",
   "execution_count": 8,
   "metadata": {},
   "outputs": [
    {
     "data": {
      "text/plain": [
       "1000"
      ]
     },
     "execution_count": 8,
     "metadata": {},
     "output_type": "execute_result"
    }
   ],
   "source": [
    "greatest_num(a)"
   ]
  },
  {
   "cell_type": "code",
   "execution_count": 11,
   "metadata": {},
   "outputs": [],
   "source": [
    "def selection_sort(arr):\n",
    "    for i, x in enumerate(arr[-1:]):\n",
    "        lowest = i\n",
    "        for j, y in enumerate(arr):\n",
    "            if arr[j] < arr[lowest]:\n",
    "                lowest = j\n",
    "        if lowest != i:\n",
    "            arr[i], arr[lowest] = arr[lowest], arr[i]\n",
    "    return arr\n",
    "        "
   ]
  },
  {
   "cell_type": "code",
   "execution_count": 12,
   "metadata": {},
   "outputs": [
    {
     "data": {
      "text/plain": [
       "[1, 2, 3, 4]"
      ]
     },
     "execution_count": 12,
     "metadata": {},
     "output_type": "execute_result"
    }
   ],
   "source": [
    "a = [2,1,3,4]\n",
    "selection_sort(a)"
   ]
  },
  {
   "cell_type": "code",
   "execution_count": 1,
   "metadata": {},
   "outputs": [],
   "source": [
    "def insertion_sort(arr):\n",
    "    for index in range(1, len(arr)):\n",
    "        tmp = arr[index]\n",
    "        pos = index - 1\n",
    "        \n",
    "        while pos >= 0:\n",
    "            if arr[pos] > tmp:\n",
    "                arr[pos+1] = arr[pos]\n",
    "                pos -= 1\n",
    "            else:\n",
    "                break\n",
    "        arr[pos+1] = tmp\n",
    "        \n",
    "    return arr"
   ]
  },
  {
   "cell_type": "code",
   "execution_count": 3,
   "metadata": {},
   "outputs": [
    {
     "data": {
      "text/plain": [
       "[1, 2, 3, 4, 7]"
      ]
     },
     "execution_count": 3,
     "metadata": {},
     "output_type": "execute_result"
    }
   ],
   "source": [
    "a = [3, 1, 2, 4, 7]\n",
    "insertion_sort(a)"
   ]
  },
  {
   "cell_type": "code",
   "execution_count": null,
   "metadata": {},
   "outputs": [],
   "source": []
  }
 ],
 "metadata": {
  "kernelspec": {
   "display_name": "Python 3",
   "language": "python",
   "name": "python3"
  },
  "language_info": {
   "codemirror_mode": {
    "name": "ipython",
    "version": 3
   },
   "file_extension": ".py",
   "mimetype": "text/x-python",
   "name": "python",
   "nbconvert_exporter": "python",
   "pygments_lexer": "ipython3",
   "version": "3.8.5"
  }
 },
 "nbformat": 4,
 "nbformat_minor": 4
}
