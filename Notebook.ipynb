{
 "cells": [
  {
   "cell_type": "code",
   "execution_count": 6,
   "metadata": {},
   "outputs": [],
   "source": [
    "def leap(year):\n",
    "    return (year % 400 == 0) if (year % 100 == 0) else (year % 4 == 0) "
   ]
  },
  {
   "cell_type": "code",
   "execution_count": 4,
   "metadata": {},
   "outputs": [],
   "source": [
    "def bubble_sort(arr):\n",
    "    unsorted_until_index = len(arr) - 1\n",
    "    done = False\n",
    "    \n",
    "    while not done:\n",
    "        done = True\n",
    "        for i in range(unsorted_until_index):\n",
    "            if arr[i] > arr[i+1]:\n",
    "                arr[i], arr[i+1] = arr[i+1], arr[i]\n",
    "                done = False\n",
    "        unsorted_until_index -= 1\n",
    "    return arr"
   ]
  },
  {
   "cell_type": "code",
   "execution_count": 5,
   "metadata": {},
   "outputs": [],
   "source": [
    "a = [54, 1, 23, 65, 98, 34, 35, 36]"
   ]
  },
  {
   "cell_type": "code",
   "execution_count": 6,
   "metadata": {},
   "outputs": [
    {
     "name": "stdout",
     "output_type": "stream",
     "text": [
      "[1, 23, 34, 35, 36, 54, 65, 98]\n"
     ]
    }
   ],
   "source": [
    "print(bubble_sort(a))"
   ]
  },
  {
   "cell_type": "code",
   "execution_count": 6,
   "metadata": {},
   "outputs": [],
   "source": [
    "# def greatest_num(arr):\n",
    "#     for i in arr:\n",
    "#         is_i_greatest = True\n",
    "#         for j in arr:\n",
    "#             if j > i:\n",
    "#                 is_i_greatest = False\n",
    "#         if is_i_greatest:\n",
    "#             return i\n",
    "\n",
    "def greatest_num(arr):\n",
    "    greatest = arr[0]\n",
    "    for i in arr:\n",
    "        if i > greatest:\n",
    "            greatest = i\n",
    "    return greatest"
   ]
  },
  {
   "cell_type": "code",
   "execution_count": 7,
   "metadata": {},
   "outputs": [],
   "source": [
    "a = [1,2,3,5,1000,123]"
   ]
  },
  {
   "cell_type": "code",
   "execution_count": 8,
   "metadata": {},
   "outputs": [
    {
     "data": {
      "text/plain": [
       "1000"
      ]
     },
     "execution_count": 8,
     "metadata": {},
     "output_type": "execute_result"
    }
   ],
   "source": [
    "greatest_num(a)"
   ]
  },
  {
   "cell_type": "code",
   "execution_count": 11,
   "metadata": {},
   "outputs": [],
   "source": [
    "def selection_sort(arr):\n",
    "    for i, x in enumerate(arr[-1:]):\n",
    "        lowest = i\n",
    "        for j, y in enumerate(arr):\n",
    "            if arr[j] < arr[lowest]:\n",
    "                lowest = j\n",
    "        if lowest != i:\n",
    "            arr[i], arr[lowest] = arr[lowest], arr[i]\n",
    "    return arr\n",
    "        "
   ]
  },
  {
   "cell_type": "code",
   "execution_count": 12,
   "metadata": {},
   "outputs": [
    {
     "data": {
      "text/plain": [
       "[1, 2, 3, 4]"
      ]
     },
     "execution_count": 12,
     "metadata": {},
     "output_type": "execute_result"
    }
   ],
   "source": [
    "a = [2,1,3,4]\n",
    "selection_sort(a)"
   ]
  },
  {
   "cell_type": "code",
   "execution_count": 1,
   "metadata": {},
   "outputs": [],
   "source": [
    "def insertion_sort(arr):\n",
    "    for index in range(1, len(arr)):\n",
    "        tmp = arr[index]\n",
    "        pos = index - 1\n",
    "        \n",
    "        while pos >= 0:\n",
    "            if arr[pos] > tmp:\n",
    "                arr[pos+1] = arr[pos]\n",
    "                pos -= 1\n",
    "            else:\n",
    "                break\n",
    "        arr[pos+1] = tmp\n",
    "        \n",
    "    return arr"
   ]
  },
  {
   "cell_type": "code",
   "execution_count": 3,
   "metadata": {},
   "outputs": [
    {
     "data": {
      "text/plain": [
       "[1, 2, 3, 4, 7]"
      ]
     },
     "execution_count": 3,
     "metadata": {},
     "output_type": "execute_result"
    }
   ],
   "source": [
    "a = [3, 1, 2, 4, 7]\n",
    "insertion_sort(a)"
   ]
  },
  {
   "cell_type": "code",
   "execution_count": 5,
   "metadata": {},
   "outputs": [],
   "source": [
    "def intersection(A, B):\n",
    "    d = {}\n",
    "    intersect = []\n",
    "    for a in A:\n",
    "        d[a] = True\n",
    "    for b in B:\n",
    "        try:\n",
    "            if d[b]:\n",
    "                intersect.append(b)\n",
    "        except:\n",
    "            continue\n",
    "    return intersect"
   ]
  },
  {
   "cell_type": "code",
   "execution_count": 6,
   "metadata": {},
   "outputs": [],
   "source": [
    "A = [1,2,3,4,5]\n",
    "B = [0,2,4,6,8]"
   ]
  },
  {
   "cell_type": "code",
   "execution_count": 7,
   "metadata": {},
   "outputs": [
    {
     "name": "stdout",
     "output_type": "stream",
     "text": [
      "[2, 4]\n"
     ]
    }
   ],
   "source": [
    "print(intersection(A,B))"
   ]
  },
  {
   "cell_type": "code",
   "execution_count": 8,
   "metadata": {},
   "outputs": [],
   "source": [
    "def duplicate(chars):\n",
    "    d = {}\n",
    "    for c in chars:\n",
    "        try:\n",
    "            if d[c]:\n",
    "                return c\n",
    "        except:\n",
    "            d[c] = True"
   ]
  },
  {
   "cell_type": "code",
   "execution_count": 9,
   "metadata": {},
   "outputs": [],
   "source": [
    "chars = [\"a\", \"b\", \"c\", \"d\", \"c\", \"e\", \"f\"]"
   ]
  },
  {
   "cell_type": "code",
   "execution_count": 10,
   "metadata": {},
   "outputs": [
    {
     "name": "stdout",
     "output_type": "stream",
     "text": [
      "c\n"
     ]
    }
   ],
   "source": [
    "print(duplicate(chars))"
   ]
  },
  {
   "cell_type": "code",
   "execution_count": 15,
   "metadata": {},
   "outputs": [],
   "source": [
    "def missing_letter(string):\n",
    "    d = {}\n",
    "    for letter in string:\n",
    "        d[letter] = True\n",
    "    for letter in \"abcdefghijjklmnopqrstuvwxyz\":\n",
    "        try:\n",
    "            if d[letter]:\n",
    "                continue\n",
    "        except:\n",
    "            return letter"
   ]
  },
  {
   "cell_type": "code",
   "execution_count": 16,
   "metadata": {},
   "outputs": [],
   "source": [
    "string = \"the quick brown box jumped over a lazy dog\""
   ]
  },
  {
   "cell_type": "code",
   "execution_count": 17,
   "metadata": {},
   "outputs": [
    {
     "name": "stdout",
     "output_type": "stream",
     "text": [
      "f\n"
     ]
    }
   ],
   "source": [
    "print(missing_letter(string))"
   ]
  },
  {
   "cell_type": "code",
   "execution_count": 23,
   "metadata": {},
   "outputs": [],
   "source": [
    "def non_dup(string):\n",
    "    d = {}\n",
    "    for letter in string:\n",
    "        try:\n",
    "            d[letter] += 1\n",
    "        except:\n",
    "            d[letter] = 1\n",
    "    for letter in string:\n",
    "        if d[letter] == 1:\n",
    "            return letter"
   ]
  },
  {
   "cell_type": "code",
   "execution_count": 24,
   "metadata": {},
   "outputs": [
    {
     "name": "stdout",
     "output_type": "stream",
     "text": [
      "n\n"
     ]
    }
   ],
   "source": [
    "print(non_dup(\"minimum\"))"
   ]
  },
  {
   "cell_type": "markdown",
   "metadata": {},
   "source": [
    "# Stacks & Queues"
   ]
  },
  {
   "cell_type": "code",
   "execution_count": 30,
   "metadata": {},
   "outputs": [],
   "source": [
    "class Stack:\n",
    "    def __init__(self):\n",
    "        self.data = []\n",
    "    def push(self, element):\n",
    "        self.data.append(element)\n",
    "    def pop(self):\n",
    "        return self.data.pop()\n",
    "    def read(self):\n",
    "        return self.data[-1]"
   ]
  },
  {
   "cell_type": "code",
   "execution_count": 19,
   "metadata": {},
   "outputs": [],
   "source": [
    "class Linter:\n",
    "    def __init__(self):\n",
    "        self.stack = Stack()\n",
    "    \n",
    "    def lint(self, text):\n",
    "        for char in text:\n",
    "            if self.is_opening(char):\n",
    "                self.stack.push(char)\n",
    "            elif self.is_closing(char):\n",
    "                try:\n",
    "                    last_brace = self.stack.pop()\n",
    "                except:\n",
    "                    return f\"'{char}' does not have opening brace\"\n",
    "            elif self.is_not_match(last_brace, char):\n",
    "                return f\"'{self.stack.read()}' has mismatched brace\"\n",
    "            \n",
    "        \n",
    "        return True\n",
    "    \n",
    "    def is_opening(self, char):\n",
    "        return char in [\"(\", \"[\", \"{\"]\n",
    "    \n",
    "    def is_closing(self, char):\n",
    "        return char in [\")\", \"]\", \"}\"]\n",
    "    \n",
    "    def is_not_match(self, last_brace, char):\n",
    "        bd = {\"(\": \")\", \"[\": \"]\", \"{\": \"}\"}\n",
    "        return char == bd[last_brace]"
   ]
  },
  {
   "cell_type": "code",
   "execution_count": 15,
   "metadata": {},
   "outputs": [],
   "source": [
    "t = \"{\""
   ]
  },
  {
   "cell_type": "code",
   "execution_count": 16,
   "metadata": {},
   "outputs": [],
   "source": [
    "l = Linter( )"
   ]
  },
  {
   "cell_type": "code",
   "execution_count": 17,
   "metadata": {},
   "outputs": [
    {
     "data": {
      "text/plain": [
       "True"
      ]
     },
     "execution_count": 17,
     "metadata": {},
     "output_type": "execute_result"
    }
   ],
   "source": [
    "l.lint(t)"
   ]
  },
  {
   "cell_type": "code",
   "execution_count": 11,
   "metadata": {},
   "outputs": [],
   "source": [
    "class Queue:\n",
    "    def __init__(self):\n",
    "        self.data = []\n",
    "    def enqueue(self, element):\n",
    "        self.data.append(element)\n",
    "    def dequeue(self):\n",
    "        self.data.pop(0)\n",
    "    def read(self):\n",
    "        return self.data[0]"
   ]
  },
  {
   "cell_type": "code",
   "execution_count": null,
   "metadata": {},
   "outputs": [],
   "source": []
  },
  {
   "cell_type": "markdown",
   "metadata": {},
   "source": [
    "# Chapter 9\n",
    "\n",
    "## Reverse String"
   ]
  },
  {
   "cell_type": "code",
   "execution_count": 33,
   "metadata": {},
   "outputs": [],
   "source": [
    "def reverse_string(string):\n",
    "    s = Stack()\n",
    "    new_string = \"\"\n",
    "    for char in string:\n",
    "        s.push(char)\n",
    "    print(s.data)\n",
    "    while len(s.data) > 0:\n",
    "        \n",
    "        new_string += s.pop()\n",
    "        \n",
    "    return new_string"
   ]
  },
  {
   "cell_type": "code",
   "execution_count": 34,
   "metadata": {},
   "outputs": [
    {
     "name": "stdout",
     "output_type": "stream",
     "text": [
      "['a', 'b', 'c']\n"
     ]
    },
    {
     "data": {
      "text/plain": [
       "'cba'"
      ]
     },
     "execution_count": 34,
     "metadata": {},
     "output_type": "execute_result"
    }
   ],
   "source": [
    "reverse_string(\"abc\")"
   ]
  },
  {
   "cell_type": "markdown",
   "metadata": {},
   "source": [
    "# Ch 10"
   ]
  },
  {
   "cell_type": "code",
   "execution_count": 23,
   "metadata": {},
   "outputs": [],
   "source": [
    "def sum(low, high):\n",
    "    if high == low:\n",
    "        return low\n",
    "    return high + sum(low, high-1)"
   ]
  },
  {
   "cell_type": "code",
   "execution_count": 24,
   "metadata": {},
   "outputs": [
    {
     "data": {
      "text/plain": [
       "55"
      ]
     },
     "execution_count": 24,
     "metadata": {},
     "output_type": "execute_result"
    }
   ],
   "source": [
    "sum(0,10)"
   ]
  },
  {
   "cell_type": "code",
   "execution_count": 3,
   "metadata": {},
   "outputs": [],
   "source": [
    "a = [\n",
    "    1,\n",
    "    2,\n",
    "    3,\n",
    "    [\n",
    "        4,5,6\n",
    "    ],\n",
    "    [\n",
    "        7,\n",
    "        [8,9,10],\n",
    "        11\n",
    "    ],\n",
    "    12,\n",
    "    [13, 14],\n",
    "    15\n",
    "]"
   ]
  },
  {
   "cell_type": "code",
   "execution_count": 21,
   "metadata": {},
   "outputs": [],
   "source": [
    "def arr_print(arr):\n",
    "    for n in arr:\n",
    "        if type(n) == int:\n",
    "            print(n)\n",
    "        else:\n",
    "            arr_print(n)"
   ]
  },
  {
   "cell_type": "code",
   "execution_count": 22,
   "metadata": {},
   "outputs": [
    {
     "name": "stdout",
     "output_type": "stream",
     "text": [
      "1\n",
      "2\n",
      "3\n",
      "4\n",
      "5\n",
      "6\n",
      "7\n",
      "8\n",
      "9\n",
      "10\n",
      "11\n",
      "12\n",
      "13\n",
      "14\n",
      "15\n"
     ]
    }
   ],
   "source": [
    "arr_print(a)"
   ]
  },
  {
   "cell_type": "code",
   "execution_count": null,
   "metadata": {},
   "outputs": [],
   "source": []
  },
  {
   "cell_type": "markdown",
   "metadata": {},
   "source": [
    "# The Steps Problem\n",
    "\n",
    "Given a staircase with `N` steps, calculate how many possibly paths a person can take if he is allowed to climb one, two or three steps at a time."
   ]
  },
  {
   "cell_type": "code",
   "execution_count": 2,
   "metadata": {},
   "outputs": [],
   "source": [
    "def paths(N):\n",
    "    if N < 0:\n",
    "        return 0\n",
    "    if N == 1 or N == 0:\n",
    "        return 1\n",
    "    return paths(N - 1) + paths(N - 2) + paths(N - 3)"
   ]
  },
  {
   "cell_type": "code",
   "execution_count": 5,
   "metadata": {},
   "outputs": [
    {
     "data": {
      "text/plain": [
       "7"
      ]
     },
     "execution_count": 5,
     "metadata": {},
     "output_type": "execute_result"
    }
   ],
   "source": [
    "paths(4)"
   ]
  },
  {
   "cell_type": "markdown",
   "metadata": {},
   "source": [
    "# Anagrams"
   ]
  },
  {
   "cell_type": "code",
   "execution_count": 38,
   "metadata": {},
   "outputs": [],
   "source": [
    "def anagrams(string):\n",
    "    if len(string) == 1:\n",
    "        return [string]\n",
    "    collection = []    \n",
    "    substr_anagrams = anagrams(string[1:])\n",
    "    for each in substr_anagrams:\n",
    "        i = 0\n",
    "        while i < len(each)+1:\n",
    "            tmp = each\n",
    "            tmp = tmp[0:i] + string[0] + tmp[i:]\n",
    "            collection.append(tmp)\n",
    "            i += 1\n",
    "    return collection\n",
    "    "
   ]
  },
  {
   "cell_type": "code",
   "execution_count": 39,
   "metadata": {},
   "outputs": [],
   "source": [
    "a = \"abc\""
   ]
  },
  {
   "cell_type": "code",
   "execution_count": 40,
   "metadata": {},
   "outputs": [
    {
     "data": {
      "text/plain": [
       "['abc', 'bac', 'bca', 'acb', 'cab', 'cba']"
      ]
     },
     "execution_count": 40,
     "metadata": {},
     "output_type": "execute_result"
    }
   ],
   "source": [
    "anagrams(a)"
   ]
  },
  {
   "cell_type": "code",
   "execution_count": null,
   "metadata": {},
   "outputs": [],
   "source": []
  },
  {
   "cell_type": "markdown",
   "metadata": {},
   "source": [
    "# Recursion"
   ]
  },
  {
   "cell_type": "code",
   "execution_count": 1,
   "metadata": {},
   "outputs": [],
   "source": [
    "def total_n_strings(arr):\n",
    "    pass"
   ]
  },
  {
   "cell_type": "code",
   "execution_count": 5,
   "metadata": {},
   "outputs": [],
   "source": [
    "def fe(a, sub):\n",
    "    if a[0] % 2 == 0:\n",
    "        sub.append(a[0])\n",
    "    if len(a[1:]) != 0:\n",
    "        return fe(a[1:], sub)\n",
    "    return sub"
   ]
  },
  {
   "cell_type": "code",
   "execution_count": 6,
   "metadata": {},
   "outputs": [
    {
     "data": {
      "text/plain": [
       "[2, 4]"
      ]
     },
     "execution_count": 6,
     "metadata": {},
     "output_type": "execute_result"
    }
   ],
   "source": [
    "fe([1,2,3,4], [])"
   ]
  },
  {
   "cell_type": "markdown",
   "metadata": {},
   "source": [
    "# DP"
   ]
  },
  {
   "cell_type": "code",
   "execution_count": 3,
   "metadata": {},
   "outputs": [],
   "source": [
    "# def add_until_100(arr):\n",
    "#     if len(arr) == 0:\n",
    "#         return 0\n",
    "#     if arr[0] + add_until_100(arr[1:]) > 100:\n",
    "#         return add_until_100(arr[1:])\n",
    "#     else:\n",
    "#         return arr[0] + add_until_100(arr[1:])\n",
    "\n",
    "def add_until_100(arr):\n",
    "    s = 0\n",
    "    for a in arr:\n",
    "        if not a + s > 100:\n",
    "            s += a\n",
    "    return s"
   ]
  },
  {
   "cell_type": "code",
   "execution_count": 4,
   "metadata": {},
   "outputs": [
    {
     "data": {
      "text/plain": [
       "90"
      ]
     },
     "execution_count": 4,
     "metadata": {},
     "output_type": "execute_result"
    }
   ],
   "source": [
    "a = [10,10,30,40,20]\n",
    "add_until_100(a)"
   ]
  },
  {
   "cell_type": "code",
   "execution_count": 5,
   "metadata": {},
   "outputs": [],
   "source": [
    "def golomb(n):\n",
    "    if n == 1:\n",
    "        return 1\n",
    "    return 1 + golomb(n-golomb(golomb(n-1)))"
   ]
  },
  {
   "cell_type": "code",
   "execution_count": 12,
   "metadata": {},
   "outputs": [
    {
     "data": {
      "text/plain": [
       "4"
      ]
     },
     "execution_count": 12,
     "metadata": {},
     "output_type": "execute_result"
    }
   ],
   "source": [
    "golomb(8)"
   ]
  },
  {
   "cell_type": "code",
   "execution_count": 2,
   "metadata": {},
   "outputs": [],
   "source": [
    "def up(rows, cols):\n",
    "    if rows == 1 or cols == 1:\n",
    "        return 1\n",
    "    return up(rows-1, cols) + up(rows, cols-1)"
   ]
  },
  {
   "cell_type": "markdown",
   "metadata": {},
   "source": [
    "# Quicksort"
   ]
  },
  {
   "cell_type": "code",
   "execution_count": 1,
   "metadata": {},
   "outputs": [],
   "source": [
    "a = [ 0, 5, 2, 1, 6, 3 ]"
   ]
  },
  {
   "cell_type": "code",
   "execution_count": null,
   "metadata": {},
   "outputs": [],
   "source": []
  }
 ],
 "metadata": {
  "kernelspec": {
   "display_name": "Python 3",
   "language": "python",
   "name": "python3"
  },
  "language_info": {
   "codemirror_mode": {
    "name": "ipython",
    "version": 3
   },
   "file_extension": ".py",
   "mimetype": "text/x-python",
   "name": "python",
   "nbconvert_exporter": "python",
   "pygments_lexer": "ipython3",
   "version": "3.8.5"
  }
 },
 "nbformat": 4,
 "nbformat_minor": 4
}
